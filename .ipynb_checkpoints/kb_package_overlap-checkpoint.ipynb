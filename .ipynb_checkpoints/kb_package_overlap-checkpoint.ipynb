{
 "cells": [
  {
   "cell_type": "code",
   "execution_count": 24,
   "metadata": {},
   "outputs": [],
   "source": [
    "import pandas as pd\n",
    "import numpy as np\n",
    "from matplotlib import pyplot as plt"
   ]
  },
  {
   "cell_type": "code",
   "execution_count": 44,
   "metadata": {},
   "outputs": [],
   "source": [
    "holdings = pd.read_csv(\"c:\\\\users\\\\kb_all\\\\all_6_1_2021.csv\", low_memory=False)"
   ]
  },
  {
   "cell_type": "code",
   "execution_count": 45,
   "metadata": {},
   "outputs": [],
   "source": [
    "#drop trial databases and print holdings\n",
    "holdings = holdings[~holdings['PackageName'].isin([\"Library Print Journals\", \"Publisher's Site Access\"])]\n",
    "#drop holdings that are hidden from publication finder\n",
    "holdings = holdings[holdings[\"HideOnPublicationFinder\"] != \"Y\"]"
   ]
  },
  {
   "cell_type": "code",
   "execution_count": 46,
   "metadata": {},
   "outputs": [],
   "source": [
    "#add column to differentiate between open access package or paid package\n",
    "holdings['Fund'] = np.where((~holdings['ProxiedURL'].str.contains('proxy.westernu.edu', regex=False, case=False, na=False)) | ((holdings['PackageName'].str.contains('Open Access', regex=False, case=False, na=False))) | ((holdings['PackageName'].str.contains('Free', regex=False, case=False, na=False))), 'Open', 'Paid')"
   ]
  },
  {
   "cell_type": "code",
   "execution_count": 47,
   "metadata": {},
   "outputs": [],
   "source": [
    "#Remove open access titles\n",
    "holdings_paid = holdings[holdings[\"Fund\"] != \"Open\"]"
   ]
  },
  {
   "cell_type": "code",
   "execution_count": 48,
   "metadata": {},
   "outputs": [],
   "source": [
    "#create new column, fill with custom coverage unless it is null then fill with managed coverage\n",
    "holdings_paid['Coverage Begin'] = holdings_paid['CustomCoverageBegin'].where(holdings_paid['CustomCoverageBegin'].notnull(), holdings_paid['ManagedCoverageBegin'])\n",
    "holdings_paid['Coverage End'] = holdings_paid['CustomCoverageEnd'].where(holdings_paid['CustomCoverageEnd'].notnull(), holdings_paid['ManagedCoverageEnd'])"
   ]
  },
  {
   "cell_type": "code",
   "execution_count": 49,
   "metadata": {},
   "outputs": [],
   "source": [
    "##Select only eJournals, Newspapers, Newsletters, Proceedings\n",
    "ejournal = holdings_paid[holdings_paid['ResourceType'].isin(['Journal', 'Newspaper', 'Newsletter', 'Proceedings'])]\n",
    "##Drop unnecessary columns\n",
    "ejournal_copy = ejournal.drop(['AlternateTitle', 'URL', 'Illustrator', 'UserDefinedField1', 'UserDefinedField2', 'UserDefinedField3', 'UserDefinedField4', 'UserDefinedField5', 'Description', 'Edition', 'Author', 'Editor', 'PrintISBN', 'OnlineISBN', 'DOI', 'PackageContentType', 'CreateCustom', 'HideOnPublicationFinder', 'Delete', 'OrderedThroughEBSCO', 'IsCustom', 'PackageType', 'AllowEbscoToAddNewTitles', 'CustomCoverageBegin','CustomCoverageEnd', 'ManagedCoverageBegin', 'ManagedCoverageEnd', 'CoverageStatement', 'CustomEmbargo'], axis=1)"
   ]
  },
  {
   "cell_type": "code",
   "execution_count": 50,
   "metadata": {},
   "outputs": [],
   "source": [
    "#replace pipe separator with comma separator \n",
    "ejournal_copy['Subject'] = ejournal_copy['Subject'].str.replace('|', ', ')"
   ]
  },
  {
   "cell_type": "code",
   "execution_count": 51,
   "metadata": {},
   "outputs": [],
   "source": [
    "#create a new column, group by KBID, populate new column with PackageName's seperated by a comma\n",
    "ejournal_copy['PackageOverlap']=holdings_paid.groupby('KBID').PackageName.transform(lambda x: ', '.join(x[x.notnull()]))"
   ]
  },
  {
   "cell_type": "code",
   "execution_count": 52,
   "metadata": {},
   "outputs": [],
   "source": [
    "#delete the origianl package name in Package Overlap\n",
    "ejournal_copy['PackageOverlap'] = ejournal_copy.apply(lambda row : row['PackageOverlap'].replace(str(row['PackageName']), ''), axis=1)"
   ]
  },
  {
   "cell_type": "code",
   "execution_count": 53,
   "metadata": {},
   "outputs": [],
   "source": [
    "#clean data by removing resulting comma at beginning of string\n",
    "ejournal_copy['PackageOverlap'] = ejournal_copy['PackageOverlap'].replace({'^,':''}, regex=True)"
   ]
  },
  {
   "cell_type": "code",
   "execution_count": 54,
   "metadata": {},
   "outputs": [],
   "source": [
    "#replace blank cells with NaN\n",
    "ejournal_copy = ejournal_copy.replace(r'^\\s*$', np.nan, regex=True)"
   ]
  },
  {
   "cell_type": "code",
   "execution_count": 59,
   "metadata": {},
   "outputs": [],
   "source": [
    "#Search for a specific package\n",
    "package_search = ejournal_copy[ejournal_copy['PackageName'].isin([\"Academic Search Elite\"])]"
   ]
  },
  {
   "cell_type": "code",
   "execution_count": 60,
   "metadata": {},
   "outputs": [],
   "source": [
    "#indicate if title is unique to database or if there is overlap with another database\n",
    "package_search['Frequency'] = np.where((package_search['PackageOverlap'].isnull()), 'unique', 'overlap')"
   ]
  },
  {
   "cell_type": "code",
   "execution_count": null,
   "metadata": {},
   "outputs": [],
   "source": [
    "package_search.to_csv(\"c:\\\\MyPythonScripts\\\\package_search_ase.csv\", index=False)"
   ]
  },
  {
   "cell_type": "code",
   "execution_count": 1,
   "metadata": {},
   "outputs": [],
   "source": [
    "package_search.groupby(['Frequency']).sum().plot(kind='pie', subplots=True, shadow = True,startangle=90,\n",
    "figsize=(10,5), autopct='%1.1f%%')"
   ]
  }
 ],
 "metadata": {
  "kernelspec": {
   "display_name": "Python 3",
   "language": "python",
   "name": "python3"
  },
  "language_info": {
   "codemirror_mode": {
    "name": "ipython",
    "version": 3
   },
   "file_extension": ".py",
   "mimetype": "text/x-python",
   "name": "python",
   "nbconvert_exporter": "python",
   "pygments_lexer": "ipython3",
   "version": "3.7.3"
  }
 },
 "nbformat": 4,
 "nbformat_minor": 4
}
